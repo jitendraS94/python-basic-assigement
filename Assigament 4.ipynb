{
 "cells": [
  {
   "cell_type": "code",
   "execution_count": 1,
   "id": "e168d63b",
   "metadata": {},
   "outputs": [],
   "source": [
    "# 1. What exactly is []?"
   ]
  },
  {
   "cell_type": "code",
   "execution_count": null,
   "id": "918a8052",
   "metadata": {},
   "outputs": [],
   "source": [
    "#Ans \n",
    "    '''[ ] this is represent the empety list.'''"
   ]
  },
  {
   "cell_type": "code",
   "execution_count": null,
   "id": "a4f163fe",
   "metadata": {},
   "outputs": [],
   "source": [
    "'''2. In a list of values stored in a variable called spam, \n",
    "      how would you assign the value 'hello' as the third value? \n",
    "      (Assume [2,4, 6, 8, 10] are in spam.)'''"
   ]
  },
  {
   "cell_type": "code",
   "execution_count": 9,
   "id": "7040c6d0",
   "metadata": {},
   "outputs": [
    {
     "data": {
      "text/plain": [
       "[2, 4, 'hello', 8, 10]"
      ]
     },
     "execution_count": 9,
     "metadata": {},
     "output_type": "execute_result"
    }
   ],
   "source": [
    "spam = [2, 4 ,6 , 8 ,10]\n",
    "spam[2] = \"hello\"\n",
    "\n",
    "spam\n",
    "   "
   ]
  },
  {
   "cell_type": "code",
   "execution_count": null,
   "id": "0255ddcb",
   "metadata": {},
   "outputs": [],
   "source": [
    "# Let's pretend the spam includes the list ['a', 'b', 'c', 'd'] for the next three queries."
   ]
  },
  {
   "cell_type": "code",
   "execution_count": null,
   "id": "437f41ef",
   "metadata": {},
   "outputs": [],
   "source": [
    "#3. What is the value of spam[int(int('3' * 2) / 11)]?"
   ]
  },
  {
   "cell_type": "code",
   "execution_count": 10,
   "id": "7fd27316",
   "metadata": {},
   "outputs": [],
   "source": [
    "spam = ['a','b','c','d']"
   ]
  },
  {
   "cell_type": "code",
   "execution_count": 11,
   "id": "8d9782ea",
   "metadata": {},
   "outputs": [
    {
     "data": {
      "text/plain": [
       "'d'"
      ]
     },
     "execution_count": 11,
     "metadata": {},
     "output_type": "execute_result"
    }
   ],
   "source": [
    "spam[int(int('3' * 2) / 11)]"
   ]
  },
  {
   "cell_type": "code",
   "execution_count": null,
   "id": "fedb6c75",
   "metadata": {},
   "outputs": [],
   "source": [
    "#4. What is the value of spam[-1]?"
   ]
  },
  {
   "cell_type": "code",
   "execution_count": 12,
   "id": "0ed81b0c",
   "metadata": {},
   "outputs": [
    {
     "data": {
      "text/plain": [
       "'d'"
      ]
     },
     "execution_count": 12,
     "metadata": {},
     "output_type": "execute_result"
    }
   ],
   "source": [
    "spam[-1]"
   ]
  },
  {
   "cell_type": "code",
   "execution_count": null,
   "id": "42bf8991",
   "metadata": {},
   "outputs": [],
   "source": [
    "#5. What is the value of spam[:2]?"
   ]
  },
  {
   "cell_type": "code",
   "execution_count": 13,
   "id": "7d9b9027",
   "metadata": {},
   "outputs": [
    {
     "data": {
      "text/plain": [
       "['a', 'b']"
      ]
     },
     "execution_count": 13,
     "metadata": {},
     "output_type": "execute_result"
    }
   ],
   "source": [
    "spam[:2]"
   ]
  },
  {
   "cell_type": "code",
   "execution_count": null,
   "id": "b43fa7db",
   "metadata": {},
   "outputs": [],
   "source": [
    "'''Let's pretend bacon has the list [3.14, 'cat,' 11, 'cat,' True] for the next three questions.'''"
   ]
  },
  {
   "cell_type": "code",
   "execution_count": null,
   "id": "75ac8732",
   "metadata": {},
   "outputs": [],
   "source": [
    "#6. What is the value of bacon.index('cat')?"
   ]
  },
  {
   "cell_type": "code",
   "execution_count": 14,
   "id": "fd8af4ff",
   "metadata": {},
   "outputs": [],
   "source": [
    "bacon = [3.14 , 'cat' ,11 , 'cat',True]"
   ]
  },
  {
   "cell_type": "code",
   "execution_count": 15,
   "id": "a7aef9f6",
   "metadata": {},
   "outputs": [
    {
     "data": {
      "text/plain": [
       "1"
      ]
     },
     "execution_count": 15,
     "metadata": {},
     "output_type": "execute_result"
    }
   ],
   "source": [
    "bacon.index('cat')"
   ]
  },
  {
   "cell_type": "code",
   "execution_count": null,
   "id": "467d004a",
   "metadata": {},
   "outputs": [],
   "source": [
    "#7. How does bacon.append(99) change the look of the list value in bacon?"
   ]
  },
  {
   "cell_type": "code",
   "execution_count": 16,
   "id": "87bced5f",
   "metadata": {},
   "outputs": [],
   "source": [
    "bacon.append(99)"
   ]
  },
  {
   "cell_type": "code",
   "execution_count": null,
   "id": "c77f7088",
   "metadata": {},
   "outputs": [],
   "source": [
    "#8. How does bacon.remove('cat') change the look of the list in bacon?"
   ]
  },
  {
   "cell_type": "code",
   "execution_count": 18,
   "id": "60865a55",
   "metadata": {},
   "outputs": [
    {
     "data": {
      "text/plain": [
       "[3.14, 'cat', 11, 'cat', True, 99]"
      ]
     },
     "execution_count": 18,
     "metadata": {},
     "output_type": "execute_result"
    }
   ],
   "source": [
    "bacon"
   ]
  },
  {
   "cell_type": "code",
   "execution_count": 19,
   "id": "dfd69785",
   "metadata": {},
   "outputs": [],
   "source": [
    "bacon.remove('cat')"
   ]
  },
  {
   "cell_type": "code",
   "execution_count": 20,
   "id": "ab1cd3e3",
   "metadata": {},
   "outputs": [
    {
     "data": {
      "text/plain": [
       "[3.14, 11, 'cat', True, 99]"
      ]
     },
     "execution_count": 20,
     "metadata": {},
     "output_type": "execute_result"
    }
   ],
   "source": [
    "bacon"
   ]
  },
  {
   "cell_type": "code",
   "execution_count": 21,
   "id": "7fac1d15",
   "metadata": {},
   "outputs": [],
   "source": [
    "# 9. What are the list concatenation and list replication operators?"
   ]
  },
  {
   "cell_type": "code",
   "execution_count": null,
   "id": "a0b6912a",
   "metadata": {},
   "outputs": [],
   "source": [
    "#Ans : -\n",
    "\n",
    "'''concatenation : = concatenation is when you have two or more string and you want to join them into one.'''"
   ]
  },
  {
   "cell_type": "code",
   "execution_count": 23,
   "id": "74504931",
   "metadata": {},
   "outputs": [
    {
     "data": {
      "text/plain": [
       "'goodmorning'"
      ]
     },
     "execution_count": 23,
     "metadata": {},
     "output_type": "execute_result"
    }
   ],
   "source": [
    "a = \"good\"\n",
    "b= \"morning\"\n",
    "a+b"
   ]
  },
  {
   "cell_type": "code",
   "execution_count": 24,
   "id": "5b7a1c42",
   "metadata": {},
   "outputs": [],
   "source": [
    "#Replication : = this is a  multiplication operator."
   ]
  },
  {
   "cell_type": "code",
   "execution_count": 25,
   "id": "8a20abee",
   "metadata": {},
   "outputs": [],
   "source": [
    "a = \"good\"\n",
    "b = a*3"
   ]
  },
  {
   "cell_type": "code",
   "execution_count": 26,
   "id": "b4fbc52f",
   "metadata": {},
   "outputs": [
    {
     "data": {
      "text/plain": [
       "'goodgoodgood'"
      ]
     },
     "execution_count": 26,
     "metadata": {},
     "output_type": "execute_result"
    }
   ],
   "source": [
    "b"
   ]
  },
  {
   "cell_type": "code",
   "execution_count": 27,
   "id": "2d97eaac",
   "metadata": {},
   "outputs": [],
   "source": [
    "# 10. What is difference between the list methods append() and insert()?"
   ]
  },
  {
   "cell_type": "code",
   "execution_count": 28,
   "id": "4ca1d4eb",
   "metadata": {},
   "outputs": [],
   "source": [
    "#Ans:- append()= add the value at the end , \\\n",
    "# insert()=add the value where you want"
   ]
  },
  {
   "cell_type": "code",
   "execution_count": 29,
   "id": "5033c5d3",
   "metadata": {},
   "outputs": [],
   "source": [
    "#11. What are the two methods for removing items from a list?"
   ]
  },
  {
   "cell_type": "code",
   "execution_count": 30,
   "id": "105cee9a",
   "metadata": {},
   "outputs": [],
   "source": [
    "#Ans := \n",
    "\n",
    "'''del and remove() two methods are use for removing items from a list.'''"
   ]
  },
  {
   "cell_type": "code",
   "execution_count": 31,
   "id": "bee6111f",
   "metadata": {},
   "outputs": [],
   "source": [
    "#12. Describe how list values and string values are identical."
   ]
  },
  {
   "cell_type": "code",
   "execution_count": null,
   "id": "68d4eb09",
   "metadata": {},
   "outputs": [],
   "source": [
    "#Ans : =\n",
    "\n",
    "   '''\n",
    "   list : - list is a mutables, in list we  can add the item any time,we can change the value after creating in list\n",
    "   string :-String are used to store character in single or double quotes,and \n",
    "            string is a immutable ,and store the value in sequence.\n",
    "            '''"
   ]
  },
  {
   "cell_type": "code",
   "execution_count": null,
   "id": "780cbc8b",
   "metadata": {},
   "outputs": [],
   "source": [
    "#13. What's the difference between tuples and lists?"
   ]
  },
  {
   "cell_type": "code",
   "execution_count": null,
   "id": "340e1ac7",
   "metadata": {},
   "outputs": [],
   "source": [
    "#Ans:=\n",
    "'''\n",
    "   list :- list is a mutables, in list we  can add the item any time,we can change the value after creating in list,\n",
    "    \n",
    "   tuple :-  tuple is a immutable but we can not change the value after the creeating a tuple.'''"
   ]
  },
  {
   "cell_type": "code",
   "execution_count": null,
   "id": "353714f6",
   "metadata": {},
   "outputs": [],
   "source": [
    "#14. How do you type a tuple value that only contains the integer 42?"
   ]
  },
  {
   "cell_type": "code",
   "execution_count": 1,
   "id": "772aad0f",
   "metadata": {},
   "outputs": [],
   "source": [
    "t = (42)"
   ]
  },
  {
   "cell_type": "code",
   "execution_count": null,
   "id": "eae6253b",
   "metadata": {},
   "outputs": [],
   "source": [
    "#15. How do you get a list value's tuple form? How do you get a tuple value's list form?"
   ]
  },
  {
   "cell_type": "code",
   "execution_count": null,
   "id": "3c1727e8",
   "metadata": {},
   "outputs": [],
   "source": [
    "Ans:- list() , tuple()"
   ]
  },
  {
   "cell_type": "code",
   "execution_count": null,
   "id": "8e932f5d",
   "metadata": {},
   "outputs": [],
   "source": [
    "#16. Variables that \"contain\" list values are not necessarily lists themselves. Instead, what do they contain?"
   ]
  },
  {
   "cell_type": "code",
   "execution_count": null,
   "id": "5f559148",
   "metadata": {},
   "outputs": [],
   "source": [
    "''' Refrences to the list values'''"
   ]
  },
  {
   "cell_type": "code",
   "execution_count": null,
   "id": "ba790315",
   "metadata": {},
   "outputs": [],
   "source": [
    "#17. How do you distinguish between copy.copy() and copy.deepcopy()?"
   ]
  },
  {
   "cell_type": "code",
   "execution_count": null,
   "id": "3a9aa7da",
   "metadata": {},
   "outputs": [],
   "source": [
    "#Ans: =\n",
    "    '''1:- copy() create reference to original object. If you change copied object - you change the original object.\n",
    "       2:- deepcopy() creates new object and does real copying of original object to new one. \n",
    "           Changing new deepcopied object doesn't affect original object.'''\n"
   ]
  },
  {
   "cell_type": "code",
   "execution_count": null,
   "id": "0e335ff4",
   "metadata": {},
   "outputs": [],
   "source": []
  }
 ],
 "metadata": {
  "kernelspec": {
   "display_name": "Python 3 (ipykernel)",
   "language": "python",
   "name": "python3"
  },
  "language_info": {
   "codemirror_mode": {
    "name": "ipython",
    "version": 3
   },
   "file_extension": ".py",
   "mimetype": "text/x-python",
   "name": "python",
   "nbconvert_exporter": "python",
   "pygments_lexer": "ipython3",
   "version": "3.9.7"
  }
 },
 "nbformat": 4,
 "nbformat_minor": 5
}
