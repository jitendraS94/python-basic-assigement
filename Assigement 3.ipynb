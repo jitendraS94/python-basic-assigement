{
 "cells": [
  {
   "cell_type": "markdown",
   "id": "4b3d829c",
   "metadata": {},
   "source": [
    "1. Why are functions advantageous to have in your programs?"
   ]
  },
  {
   "cell_type": "markdown",
   "id": "85f960bb",
   "metadata": {},
   "source": [
    "Advantage: -\n",
    "    \n",
    "    1) we can avoid rewriting same logic and code again and again in a program.\n",
    "    \n",
    "    2) we can call python funtion in a program multipal time .\n",
    "    \n",
    "    3) Reuseability is also good in python.\n",
    "    \n",
    "    4) Function calling is always overhead in a Python program."
   ]
  },
  {
   "cell_type": "markdown",
   "id": "c9f8ad51",
   "metadata": {},
   "source": [
    "2. When does the code in a function run: when it's specified or when it's called?"
   ]
  },
  {
   "cell_type": "code",
   "execution_count": null,
   "id": "32b721df",
   "metadata": {},
   "outputs": [],
   "source": [
    "Ans 3:= A function is a block of code that only run when it is call. \n",
    "    \n",
    "    python function print a value using a print statement, if one is specified .\n",
    "    \n",
    "  "
   ]
  },
  {
   "cell_type": "markdown",
   "id": "93757be4",
   "metadata": {},
   "source": [
    "3. What statement creates a function?"
   ]
  },
  {
   "cell_type": "code",
   "execution_count": null,
   "id": "79433079",
   "metadata": {},
   "outputs": [],
   "source": [
    "def function_name():"
   ]
  },
  {
   "cell_type": "markdown",
   "id": "7a751c0d",
   "metadata": {},
   "source": [
    "4. What is the difference between a function and a function call?"
   ]
  },
  {
   "cell_type": "markdown",
   "id": "63980ac9",
   "metadata": {},
   "source": [
    " Ans:=\n",
    "        \n",
    "    A function is procedure to achieve a particular result while function call is using this function to achive that task."
   ]
  },
  {
   "cell_type": "markdown",
   "id": "8cf71cb1",
   "metadata": {},
   "source": [
    "5. How many global scopes are there in a Python program? How many local scopes?"
   ]
  },
  {
   "cell_type": "code",
   "execution_count": null,
   "id": "7756e9a2",
   "metadata": {},
   "outputs": [],
   "source": [
    "Ans:=\n",
    "    Python has two scopes for variables: \n",
    "        \n",
    "        Local scope: variables you create within a function are only available within the function.\n",
    "            \n",
    "        Global scope: variables you create outside of a function belong to the global scope and can be used everywhere."
   ]
  },
  {
   "cell_type": "markdown",
   "id": "27a802ba",
   "metadata": {},
   "source": [
    "6. What happens to variables in a local scope when the function call returns?"
   ]
  },
  {
   "cell_type": "markdown",
   "id": "873eb04e",
   "metadata": {},
   "source": [
    "Ans : = whe execute the function return local variable are distroyed ."
   ]
  },
  {
   "cell_type": "markdown",
   "id": "4d4427a2",
   "metadata": {},
   "source": [
    "7. What is the concept of a return value? Is it possible to have a return value in an expression?"
   ]
  },
  {
   "cell_type": "markdown",
   "id": "36c87752",
   "metadata": {},
   "source": [
    "Ans:=In Python, every function returns something. \n",
    "    \n",
    "     If there are no return statements, then it returns None.\n",
    "\n",
    "     If the return statement contains an expression, it’s evaluated first and then the value is returned."
   ]
  },
  {
   "cell_type": "markdown",
   "id": "30f06008",
   "metadata": {},
   "source": [
    "8. If a function does not have a return statement, what is the return value of a call to that function?"
   ]
  },
  {
   "cell_type": "markdown",
   "id": "588764ad",
   "metadata": {},
   "source": [
    "If function does not specify a return value it returns None."
   ]
  },
  {
   "cell_type": "markdown",
   "id": "811a41a4",
   "metadata": {},
   "source": [
    "9. How do you make a function variable refer to the global variable?"
   ]
  },
  {
   "cell_type": "markdown",
   "id": "6504c660",
   "metadata": {},
   "source": [
    "Ans : =. To create a global variable inside a function, you can use the global keyword."
   ]
  },
  {
   "cell_type": "markdown",
   "id": "36b82636",
   "metadata": {},
   "source": [
    "10. What is the data type of None?"
   ]
  },
  {
   "cell_type": "markdown",
   "id": "6a83ee4d",
   "metadata": {},
   "source": [
    "Ans : =\n",
    "    None keyword is an object and is a data type of none type class.\n",
    "    \n",
    "None datatype doesn’t contain any value.\n",
    "\n",
    "None keyword is used to define a null variable or object.\n",
    "\n",
    "None keyword is immutable."
   ]
  },
  {
   "cell_type": "markdown",
   "id": "a83bd8bf",
   "metadata": {},
   "source": [
    "11. What does the sentence import areallyourpetsnamederic do?"
   ]
  },
  {
   "cell_type": "code",
   "execution_count": null,
   "id": "f2e5d8db",
   "metadata": {},
   "outputs": [],
   "source": [
    "NO module name is areallyourpetsnamederic."
   ]
  },
  {
   "cell_type": "code",
   "execution_count": 1,
   "id": "1b7d8d42",
   "metadata": {},
   "outputs": [
    {
     "ename": "ModuleNotFoundError",
     "evalue": "No module named 'areallyourpetsnamederic'",
     "output_type": "error",
     "traceback": [
      "\u001b[1;31m---------------------------------------------------------------------------\u001b[0m",
      "\u001b[1;31mModuleNotFoundError\u001b[0m                       Traceback (most recent call last)",
      "\u001b[1;32m~\\AppData\\Local\\Temp/ipykernel_12528/51184242.py\u001b[0m in \u001b[0;36m<module>\u001b[1;34m\u001b[0m\n\u001b[1;32m----> 1\u001b[1;33m \u001b[1;32mimport\u001b[0m \u001b[0mareallyourpetsnamederic\u001b[0m\u001b[1;33m\u001b[0m\u001b[1;33m\u001b[0m\u001b[0m\n\u001b[0m",
      "\u001b[1;31mModuleNotFoundError\u001b[0m: No module named 'areallyourpetsnamederic'"
     ]
    }
   ],
   "source": [
    "import areallyourpetsnamederic"
   ]
  },
  {
   "cell_type": "markdown",
   "id": "e24084db",
   "metadata": {},
   "source": [
    "12. If you had a bacon() feature in a spam module, what would you call it after importing spam?"
   ]
  },
  {
   "cell_type": "markdown",
   "id": "7bdbf21a",
   "metadata": {},
   "source": [
    "Ans =-\n",
    "\n",
    "spam.<function-name>()\n",
    "\n",
    "spam.bacon()"
   ]
  },
  {
   "cell_type": "markdown",
   "id": "bf4dd278",
   "metadata": {},
   "source": [
    "13. What can you do to save a programme from crashing if it encounters an error?"
   ]
  },
  {
   "cell_type": "code",
   "execution_count": null,
   "id": "b6c1a4a9",
   "metadata": {},
   "outputs": [],
   "source": [
    "Ans =- \n",
    "\n",
    "We can use try statement to test a code block and\n",
    "\n",
    "if it encounters an error an except block handles the error which avoids crashing a program."
   ]
  },
  {
   "cell_type": "markdown",
   "id": "83ee47ef",
   "metadata": {},
   "source": [
    "14. What is the purpose of the try clause? What is the purpose of the except clause?"
   ]
  },
  {
   "cell_type": "code",
   "execution_count": null,
   "id": "09840001",
   "metadata": {},
   "outputs": [],
   "source": [
    "Ans =-\n",
    "\n",
    "We can use try statement to test a code block and\n",
    "\n",
    "if it encounters an error an except block handles the error which avoids crashing a program.\n",
    "\n",
    "If try block does not execute successfully the program will run except block."
   ]
  }
 ],
 "metadata": {
  "kernelspec": {
   "display_name": "Python 3 (ipykernel)",
   "language": "python",
   "name": "python3"
  },
  "language_info": {
   "codemirror_mode": {
    "name": "ipython",
    "version": 3
   },
   "file_extension": ".py",
   "mimetype": "text/x-python",
   "name": "python",
   "nbconvert_exporter": "python",
   "pygments_lexer": "ipython3",
   "version": "3.9.7"
  }
 },
 "nbformat": 4,
 "nbformat_minor": 5
}
