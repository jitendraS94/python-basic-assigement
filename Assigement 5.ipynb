{
 "cells": [
  {
   "cell_type": "code",
   "execution_count": 2,
   "id": "4b13997f",
   "metadata": {},
   "outputs": [],
   "source": [
    "#1. What does an empty dictionary's code look like?"
   ]
  },
  {
   "cell_type": "code",
   "execution_count": 3,
   "id": "ab6dd4b7",
   "metadata": {},
   "outputs": [],
   "source": [
    "d = {}"
   ]
  },
  {
   "cell_type": "code",
   "execution_count": 4,
   "id": "f9c81606",
   "metadata": {},
   "outputs": [
    {
     "data": {
      "text/plain": [
       "dict"
      ]
     },
     "execution_count": 4,
     "metadata": {},
     "output_type": "execute_result"
    }
   ],
   "source": [
    "type(d)"
   ]
  },
  {
   "cell_type": "code",
   "execution_count": 5,
   "id": "26c5606c",
   "metadata": {},
   "outputs": [],
   "source": [
    "#2. What is the value of a dictionary value with the key 'foo' and the value 42?"
   ]
  },
  {
   "cell_type": "code",
   "execution_count": 6,
   "id": "d06923d2",
   "metadata": {},
   "outputs": [],
   "source": [
    "d ={\"foo\":42}"
   ]
  },
  {
   "cell_type": "code",
   "execution_count": 8,
   "id": "daf18d9a",
   "metadata": {},
   "outputs": [
    {
     "data": {
      "text/plain": [
       "dict_values([42])"
      ]
     },
     "execution_count": 8,
     "metadata": {},
     "output_type": "execute_result"
    }
   ],
   "source": [
    "d.values()"
   ]
  },
  {
   "cell_type": "code",
   "execution_count": 9,
   "id": "bddc1518",
   "metadata": {},
   "outputs": [],
   "source": [
    "# 3. What is the most significant distinction between a dictionary and a list?"
   ]
  },
  {
   "cell_type": "markdown",
   "id": "be87a3a2",
   "metadata": {},
   "source": [
    "#Ans:= \n",
    "'''\n",
    "dictionary = 1:- dictionary are a collection of some keys and values pairs.\n",
    "             2:- dictionary are mutable typeand unordered collection with element in the from of a key :value pairs \n",
    "                 the associat key to value\n",
    "list :=      1: List is a collection of diffent different type of value like string ,tuble, dict ,\n",
    "                it is a mutable and ordered collection\n",
    "'''"
   ]
  },
  {
   "cell_type": "code",
   "execution_count": 10,
   "id": "40a7ca89",
   "metadata": {},
   "outputs": [],
   "source": [
    "#4. What happens if you try to access spam['foo'] if spam is {'bar': 100}?"
   ]
  },
  {
   "cell_type": "code",
   "execution_count": 14,
   "id": "3b79820d",
   "metadata": {},
   "outputs": [
    {
     "ename": "KeyError",
     "evalue": "'foo'",
     "output_type": "error",
     "traceback": [
      "\u001b[1;31m---------------------------------------------------------------------------\u001b[0m",
      "\u001b[1;31mKeyError\u001b[0m                                  Traceback (most recent call last)",
      "\u001b[1;32m~\\AppData\\Local\\Temp/ipykernel_2520/2940632443.py\u001b[0m in \u001b[0;36m<module>\u001b[1;34m\u001b[0m\n\u001b[0;32m      1\u001b[0m \u001b[0mspam\u001b[0m \u001b[1;33m=\u001b[0m \u001b[1;33m{\u001b[0m\u001b[1;34m\"bar\"\u001b[0m\u001b[1;33m:\u001b[0m\u001b[1;36m100\u001b[0m \u001b[1;33m}\u001b[0m\u001b[1;33m\u001b[0m\u001b[1;33m\u001b[0m\u001b[0m\n\u001b[1;32m----> 2\u001b[1;33m \u001b[0mspam\u001b[0m\u001b[1;33m[\u001b[0m\u001b[1;34m\"foo\"\u001b[0m\u001b[1;33m]\u001b[0m\u001b[1;33m\u001b[0m\u001b[1;33m\u001b[0m\u001b[0m\n\u001b[0m",
      "\u001b[1;31mKeyError\u001b[0m: 'foo'"
     ]
    }
   ],
   "source": [
    "# keyError\n",
    "spam = {\"bar\":100 }\n",
    "spam[\"foo\"]\n",
    "\n"
   ]
  },
  {
   "cell_type": "code",
   "execution_count": 15,
   "id": "8d5e96f8",
   "metadata": {},
   "outputs": [],
   "source": [
    "# 5. If a dictionary is stored in spam, what is the difference between the expressions 'cat' in spam and 'cat' in spam.keys()?"
   ]
  },
  {
   "cell_type": "code",
   "execution_count": null,
   "id": "004b938f",
   "metadata": {},
   "outputs": [],
   "source": [
    "#Ans:= \n",
    "\n",
    "'''There is no difference . The operator checks whether a value exits as a key in the dictionary or not\n",
    "'''"
   ]
  },
  {
   "cell_type": "code",
   "execution_count": 16,
   "id": "0028e73e",
   "metadata": {},
   "outputs": [],
   "source": [
    "# 6. If a dictionary is stored in spam, what is the difference between the expressions 'cat' in spam and 'cat' in spam.values()?"
   ]
  },
  {
   "cell_type": "code",
   "execution_count": null,
   "id": "b69dcf59",
   "metadata": {},
   "outputs": [],
   "source": [
    "#Ans:=\n",
    "'''\n",
    "cat' in spam checks whether there is a 'cat' key in the dictionary, \n",
    "while 'cat' in spam.values() checks whether there is a value 'cat' for one of the keys in spam.'''"
   ]
  },
  {
   "cell_type": "code",
   "execution_count": 17,
   "id": "498e0723",
   "metadata": {},
   "outputs": [],
   "source": [
    "#7. What is a shortcut for the following code?\n",
    "#  if 'color' not in spam:\n",
    "# spam['color'] = 'black'"
   ]
  },
  {
   "cell_type": "code",
   "execution_count": 18,
   "id": "0f5d53fe",
   "metadata": {},
   "outputs": [],
   "source": [
    "spam.setdefault('color','black')"
   ]
  },
  {
   "cell_type": "code",
   "execution_count": 19,
   "id": "fd653c62",
   "metadata": {},
   "outputs": [],
   "source": [
    "#8. How do you \"pretty print\" dictionary values using which module and function?"
   ]
  },
  {
   "cell_type": "code",
   "execution_count": 20,
   "id": "f2d8e0c0",
   "metadata": {},
   "outputs": [],
   "source": [
    "    # pprint()\n",
    "    # json.dumps()\n",
    "    # yaml.dump()"
   ]
  },
  {
   "cell_type": "code",
   "execution_count": 28,
   "id": "f70c6a0d",
   "metadata": {},
   "outputs": [],
   "source": [
    "import pprint"
   ]
  },
  {
   "cell_type": "code",
   "execution_count": 31,
   "id": "694475a7",
   "metadata": {},
   "outputs": [
    {
     "name": "stdout",
     "output_type": "stream",
     "text": [
      "{'city': 'gwalior', 'name': 'jitu', 'pincode': 474003, 'sarname': 'sharma'}\n",
      "{\"'Name': 'John', 'Age': '23', 'Country': 'USA'\"}\n"
     ]
    }
   ],
   "source": [
    "d = [{\"name\":\"jitu\",\"sarname\":\"sharma\",\"city\":\"gwalior\",\"pincode\":474003} ,{\"'Name': 'John', 'Age': '23', 'Country': 'USA'\"}]\n",
    "\n",
    "\n",
    "for i in d:\n",
    "    pprint.pprint(i)"
   ]
  },
  {
   "cell_type": "code",
   "execution_count": 34,
   "id": "3aeac87e",
   "metadata": {},
   "outputs": [],
   "source": [
    "import json"
   ]
  },
  {
   "cell_type": "code",
   "execution_count": 35,
   "id": "6284e6cc",
   "metadata": {},
   "outputs": [
    {
     "name": "stdout",
     "output_type": "stream",
     "text": [
      "{'city': 'gwalior', 'name': 'jitu', 'pincode': 474003, 'sarname': 'sharma'}\n",
      "{\"'Name': 'John', 'Age': '23', 'Country': 'USA'\"}\n"
     ]
    }
   ],
   "source": [
    "d = [{\"name\":\"jitu\",\"sarname\":\"sharma\",\"city\":\"gwalior\",\"pincode\":474003} ,{\"'Name': 'John', 'Age': '23', 'Country': 'USA'\"}]\n",
    "\n",
    "\n",
    "for i in d:\n",
    "    pprint.pprint(i)"
   ]
  },
  {
   "cell_type": "code",
   "execution_count": 36,
   "id": "4cd5b93c",
   "metadata": {},
   "outputs": [],
   "source": [
    "import yaml"
   ]
  },
  {
   "cell_type": "code",
   "execution_count": 37,
   "id": "e2e80ff4",
   "metadata": {},
   "outputs": [
    {
     "name": "stdout",
     "output_type": "stream",
     "text": [
      "{'city': 'gwalior', 'name': 'jitu', 'pincode': 474003, 'sarname': 'sharma'}\n",
      "{\"'Name': 'John', 'Age': '23', 'Country': 'USA'\"}\n"
     ]
    }
   ],
   "source": [
    "d = [{\"name\":\"jitu\",\"sarname\":\"sharma\",\"city\":\"gwalior\",\"pincode\":474003} ,{\"'Name': 'John', 'Age': '23', 'Country': 'USA'\"}]\n",
    "\n",
    "\n",
    "for i in d:\n",
    "    pprint.pprint(i)"
   ]
  },
  {
   "cell_type": "code",
   "execution_count": null,
   "id": "a6a75368",
   "metadata": {},
   "outputs": [],
   "source": []
  }
 ],
 "metadata": {
  "kernelspec": {
   "display_name": "Python 3 (ipykernel)",
   "language": "python",
   "name": "python3"
  },
  "language_info": {
   "codemirror_mode": {
    "name": "ipython",
    "version": 3
   },
   "file_extension": ".py",
   "mimetype": "text/x-python",
   "name": "python",
   "nbconvert_exporter": "python",
   "pygments_lexer": "ipython3",
   "version": "3.9.7"
  }
 },
 "nbformat": 4,
 "nbformat_minor": 5
}
