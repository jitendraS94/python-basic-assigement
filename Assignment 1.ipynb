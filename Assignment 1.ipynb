{
 "cells": [
  {
   "cell_type": "markdown",
   "id": "9887a5b3",
   "metadata": {},
   "source": [
    "1. In the below elements which of them are values or an expression? eg:- values can be integer or string and expressions will be mathematical operators."
   ]
  },
  {
   "cell_type": "markdown",
   "id": "b493d689",
   "metadata": {},
   "source": [
    "* \n",
    "\n",
    "\n",
    "'hello'\n",
    "\n",
    "-87.8\n",
    "\n",
    "- \n",
    "\n",
    "/ \n",
    "\n",
    "+\t\n",
    "\n",
    "6 \n",
    "\n"
   ]
  },
  {
   "cell_type": "markdown",
   "id": "d486d4af",
   "metadata": {},
   "source": [
    " Ans1 =       \n",
    " values = 'hello' , -87.8 , 6 and\n",
    "Expression = * , -, /, +"
   ]
  },
  {
   "cell_type": "markdown",
   "id": "f8f4b5d9",
   "metadata": {},
   "source": [
    "2. What is the difference between string and variable?"
   ]
  },
  {
   "cell_type": "markdown",
   "id": "923360ab",
   "metadata": {},
   "source": [
    "Ans 2 :-\n",
    "\n",
    "string = it is a series of character surrounded by single ('') and double(\" \") quate.\n",
    "\n",
    "variable = variable is use to store a value. example = (( a = \"Ineuron\" here a is variable and \"Ineuron is string\"1))"
   ]
  },
  {
   "cell_type": "markdown",
   "id": "64dd613a",
   "metadata": {},
   "source": [
    "3. Describe three different data types."
   ]
  },
  {
   "cell_type": "markdown",
   "id": "2c4bf291",
   "metadata": {},
   "source": [
    "Ans 3 : -\n",
    "\n",
    "The three data type is 1. integer , 2 . string , 3 . floting\n",
    "\n",
    "1. integer =  integer is define by the mathematical value without quate. Exampal is a = 12335.\n",
    "\n",
    "2. string =  it is define by series of charater surrounded by single and double quate.\n",
    "\n",
    "3. floting = in floating value define by the decimal number .Examp= a = 75.25"
   ]
  },
  {
   "cell_type": "markdown",
   "id": "e395fbe7",
   "metadata": {},
   "source": [
    "4. What is an expression made up of? What do all expressions do?"
   ]
  },
  {
   "cell_type": "code",
   "execution_count": null,
   "id": "e1036735",
   "metadata": {},
   "outputs": [],
   "source": [
    "Ans4 =\n",
    "\n",
    " Expression made up of values, containers, and mathematical operators .\n",
    "    expression is used to evaluate the value or represent the result on the screen"
   ]
  },
  {
   "cell_type": "markdown",
   "id": "7d64fb78",
   "metadata": {},
   "source": [
    "5. This assignment statements, like spam = 10. What is the difference between an expression and a statement?"
   ]
  },
  {
   "cell_type": "markdown",
   "id": "3f1925e3",
   "metadata": {},
   "source": [
    "Ans5 = \n",
    "\n",
    "Expression is made up of values, containers, and mathematical operators (operands) and we define  statement is just like a command that a python interpreter executes like print.\n",
    "\n"
   ]
  },
  {
   "cell_type": "markdown",
   "id": "4f289e2d",
   "metadata": {},
   "source": [
    "6. After running the following code, what does the variable bacon contain?\n",
    "bacon = 22\n",
    "bacon + 1\n"
   ]
  },
  {
   "cell_type": "code",
   "execution_count": 1,
   "id": "f7f98be6",
   "metadata": {},
   "outputs": [
    {
     "data": {
      "text/plain": [
       "23"
      ]
     },
     "execution_count": 1,
     "metadata": {},
     "output_type": "execute_result"
    }
   ],
   "source": [
    "bacon = 22\n",
    "bacon +1"
   ]
  },
  {
   "cell_type": "markdown",
   "id": "382bdf20",
   "metadata": {},
   "source": [
    "7. What should the values of the following two terms be?\n",
    "'spam' + 'spamspam'\n",
    "'spam' * 3\n"
   ]
  },
  {
   "cell_type": "code",
   "execution_count": 3,
   "id": "9f81ade5",
   "metadata": {},
   "outputs": [
    {
     "data": {
      "text/plain": [
       "'spamspamspam'"
      ]
     },
     "execution_count": 3,
     "metadata": {},
     "output_type": "execute_result"
    }
   ],
   "source": [
    "'spam' + 'spamspam'\n",
    "'spam' * 3"
   ]
  },
  {
   "cell_type": "markdown",
   "id": "c3396760",
   "metadata": {},
   "source": [
    "8. Why is eggs a valid variable name while 100 is invalid?"
   ]
  },
  {
   "cell_type": "markdown",
   "id": "b9228f62",
   "metadata": {},
   "source": [
    "Ans 8 :-\n",
    "    \n",
    "    100 is not valid name because we can not start variable name for integer. if we want valid variable name then we have to start \n",
    "the variable name for alphabate after this we have  use integer like a = A123 it is a valid variable name because it is start from \n",
    "alphabetical word"
   ]
  },
  {
   "cell_type": "code",
   "execution_count": null,
   "id": "2916ff67",
   "metadata": {},
   "outputs": [],
   "source": [
    "print()"
   ]
  },
  {
   "cell_type": "markdown",
   "id": "639f8cf6",
   "metadata": {},
   "source": [
    "9. What three functions can be used to get the integer, floating-point number, or string version of a value?"
   ]
  },
  {
   "cell_type": "markdown",
   "id": "ad4baf44",
   "metadata": {},
   "source": [
    "Ans 9 :-\n",
    "\n",
    "integer = int() , floating = flo() , string = str()"
   ]
  },
  {
   "cell_type": "markdown",
   "id": "1de5c06b",
   "metadata": {},
   "source": [
    "10. Why does this expression cause an error? How can you fix it?\n",
    "'I have eaten ' + 99 + ' burritos.'\n"
   ]
  },
  {
   "cell_type": "code",
   "execution_count": 2,
   "id": "b5684adf",
   "metadata": {},
   "outputs": [
    {
     "data": {
      "text/plain": [
       "'i have eaten99burritos'"
      ]
     },
     "execution_count": 2,
     "metadata": {},
     "output_type": "execute_result"
    }
   ],
   "source": [
    "'i have eaten' + '99' + 'burritos'"
   ]
  },
  {
   "cell_type": "markdown",
   "id": "a3252645",
   "metadata": {},
   "source": [
    "this expression cause because of 99 is integer value and other is string so when \n",
    "we plus both value the the system  error is come,\n",
    "for resolve this issue we have to change the integer value into string and\n",
    "after changing the integer value into in the string then code is woring."
   ]
  },
  {
   "cell_type": "code",
   "execution_count": null,
   "id": "8727fbe6",
   "metadata": {},
   "outputs": [],
   "source": [
    "\n",
    "\n"
   ]
  }
 ],
 "metadata": {
  "kernelspec": {
   "display_name": "Python 3 (ipykernel)",
   "language": "python",
   "name": "python3"
  },
  "language_info": {
   "codemirror_mode": {
    "name": "ipython",
    "version": 3
   },
   "file_extension": ".py",
   "mimetype": "text/x-python",
   "name": "python",
   "nbconvert_exporter": "python",
   "pygments_lexer": "ipython3",
   "version": "3.9.7"
  }
 },
 "nbformat": 4,
 "nbformat_minor": 5
}
