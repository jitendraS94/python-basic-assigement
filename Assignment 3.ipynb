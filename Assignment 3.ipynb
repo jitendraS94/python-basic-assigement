{
 "cells": [
  {
   "cell_type": "code",
   "execution_count": null,
   "id": "893d1848",
   "metadata": {},
   "outputs": [],
   "source": [
    "1. What is the concept of an abstract superclass?"
   ]
  },
  {
   "cell_type": "code",
   "execution_count": null,
   "id": "75ab4b84",
   "metadata": {},
   "outputs": [],
   "source": [
    "A class which contains one or more abstract methods is called an abstract class"
   ]
  },
  {
   "cell_type": "code",
   "execution_count": null,
   "id": "484b92c7",
   "metadata": {},
   "outputs": [],
   "source": []
  },
  {
   "cell_type": "code",
   "execution_count": null,
   "id": "3849e8f4",
   "metadata": {},
   "outputs": [],
   "source": [
    "2. What happens when a class statement's top level contains a basic assignment statement?"
   ]
  },
  {
   "cell_type": "code",
   "execution_count": null,
   "id": "f90f9309",
   "metadata": {},
   "outputs": [],
   "source": [
    "When a Class statement's top level contains a basic assignment statement, its usually treated as a class attribute or class level variable."
   ]
  },
  {
   "cell_type": "code",
   "execution_count": null,
   "id": "08b2533e",
   "metadata": {},
   "outputs": [],
   "source": []
  },
  {
   "cell_type": "code",
   "execution_count": null,
   "id": "13bf3cd7",
   "metadata": {},
   "outputs": [],
   "source": [
    "3. Why does a class need to manually call a superclass's init method?"
   ]
  },
  {
   "cell_type": "code",
   "execution_count": null,
   "id": "0c586895",
   "metadata": {},
   "outputs": [],
   "source": [
    "__init__ method of the child class overrides the __init__ method of the parent class. so we have to manually call a parent superclass's __init__ using super() method"
   ]
  },
  {
   "cell_type": "code",
   "execution_count": null,
   "id": "a26f24e9",
   "metadata": {},
   "outputs": [],
   "source": [
    "class Person:\n",
    "    def __init__(self,name,age):\n",
    "        self.name = name\n",
    "        self.age = age\n",
    "class Employee(Person):\n",
    "    def __init__(self,name,age,dob):\n",
    "        super().__init__(name,age) \n",
    "        self.dob = dob\n",
    "emp_1 = Employee('kittu',26,1995)\n",
    "print(emp_1.name) \n",
    "print(emp_1.age)       \n",
    "print(emp_1.dob)     "
   ]
  },
  {
   "cell_type": "code",
   "execution_count": null,
   "id": "39140498",
   "metadata": {},
   "outputs": [],
   "source": [
    "4. How can you augment, instead of completely replacing, an inherited method?"
   ]
  },
  {
   "cell_type": "code",
   "execution_count": null,
   "id": "759a9765",
   "metadata": {},
   "outputs": [],
   "source": [
    "super() method can be used to augment, instead of completely replacing, an inherited method."
   ]
  },
  {
   "cell_type": "code",
   "execution_count": 13,
   "id": "f01cbbf6",
   "metadata": {},
   "outputs": [
    {
     "name": "stdout",
     "output_type": "stream",
     "text": [
      "kittu\n",
      "26\n",
      "1995\n"
     ]
    }
   ],
   "source": [
    "class Person:\n",
    "    def __init__(self,name,age):\n",
    "        self.name = name\n",
    "        self.age = age\n",
    "class Employee(Person):\n",
    "    def __init__(self,name,age,dob):\n",
    "        super().__init__(name,age) \n",
    "        self.dob = dob\n",
    "emp_1 = Employee('kittu',26,1995)\n",
    "print(emp_1.name) \n",
    "print(emp_1.age)       \n",
    "print(emp_1.dob)       "
   ]
  },
  {
   "cell_type": "code",
   "execution_count": 12,
   "id": "6b7cf063",
   "metadata": {},
   "outputs": [
    {
     "name": "stdout",
     "output_type": "stream",
     "text": [
      "Object `function` not found.\n"
     ]
    }
   ],
   "source": [
    "5. How is the local scope of a class different from that of a function?"
   ]
  },
  {
   "cell_type": "code",
   "execution_count": null,
   "id": "030e81df",
   "metadata": {},
   "outputs": [],
   "source": [
    "A Variable which is defined inside a function is local to that function.\n",
    "it is accesible from the point at which it is defined until the end of the function, \n",
    "and exists for as long as the function is existing."
   ]
  },
  {
   "cell_type": "code",
   "execution_count": null,
   "id": "6ebbfc93",
   "metadata": {},
   "outputs": [],
   "source": []
  },
  {
   "cell_type": "code",
   "execution_count": null,
   "id": "c5d201c7",
   "metadata": {},
   "outputs": [],
   "source": []
  },
  {
   "cell_type": "code",
   "execution_count": null,
   "id": "e910317a",
   "metadata": {},
   "outputs": [],
   "source": []
  },
  {
   "cell_type": "code",
   "execution_count": null,
   "id": "601ac9e0",
   "metadata": {},
   "outputs": [],
   "source": []
  },
  {
   "cell_type": "code",
   "execution_count": null,
   "id": "5bc70148",
   "metadata": {},
   "outputs": [],
   "source": []
  },
  {
   "cell_type": "code",
   "execution_count": null,
   "id": "2c7222fd",
   "metadata": {},
   "outputs": [],
   "source": []
  },
  {
   "cell_type": "code",
   "execution_count": null,
   "id": "c02fd57f",
   "metadata": {},
   "outputs": [],
   "source": []
  },
  {
   "cell_type": "code",
   "execution_count": null,
   "id": "b1e231b5",
   "metadata": {},
   "outputs": [],
   "source": []
  }
 ],
 "metadata": {
  "kernelspec": {
   "display_name": "Python 3 (ipykernel)",
   "language": "python",
   "name": "python3"
  },
  "language_info": {
   "codemirror_mode": {
    "name": "ipython",
    "version": 3
   },
   "file_extension": ".py",
   "mimetype": "text/x-python",
   "name": "python",
   "nbconvert_exporter": "python",
   "pygments_lexer": "ipython3",
   "version": "3.9.7"
  }
 },
 "nbformat": 4,
 "nbformat_minor": 5
}
