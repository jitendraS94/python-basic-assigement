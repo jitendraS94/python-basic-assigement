{
 "cells": [
  {
   "cell_type": "code",
   "execution_count": null,
   "id": "ee032359",
   "metadata": {},
   "outputs": [],
   "source": [
    "#1. What are escape characters, and how do you use them?"
   ]
  },
  {
   "cell_type": "code",
   "execution_count": null,
   "id": "b736f5a7",
   "metadata": {},
   "outputs": [],
   "source": [
    "'''\n",
    "   To insert characters that are illegal in a string, use an escape character.\n",
    "   use = we can use the backslash character in single and double character and symbol.\n",
    "   '''"
   ]
  },
  {
   "cell_type": "code",
   "execution_count": null,
   "id": "5162cfa9",
   "metadata": {},
   "outputs": [],
   "source": [
    "#2  What do the escape characters n and t stand for?"
   ]
  },
  {
   "cell_type": "code",
   "execution_count": null,
   "id": "dc6a1ff9",
   "metadata": {},
   "outputs": [],
   "source": [
    "\\n and \\t"
   ]
  },
  {
   "cell_type": "code",
   "execution_count": 1,
   "id": "9017fec8",
   "metadata": {},
   "outputs": [],
   "source": [
    "#3. What is the way to include backslash characters in a string?"
   ]
  },
  {
   "cell_type": "code",
   "execution_count": null,
   "id": "486359a2",
   "metadata": {},
   "outputs": [],
   "source": [
    "'''\n",
    "   \\\\ represent the backslash characters in a string.\n",
    "   \n",
    "'''   \n",
    "   "
   ]
  },
  {
   "cell_type": "code",
   "execution_count": 2,
   "id": "cea4d49e",
   "metadata": {},
   "outputs": [],
   "source": [
    "#4. The string \"Howl's Moving Castle\" is a correct value. Why isn't the single quote character in the word Howl's not escaped a problem?"
   ]
  },
  {
   "cell_type": "code",
   "execution_count": null,
   "id": "b2df1565",
   "metadata": {},
   "outputs": [],
   "source": [
    "''' \n",
    "\" Howl's Moving Castle\" is a correct value, it is not in single quote character \n",
    " because if it is in single quate then we have to use \\ .\n",
    "  example = 'Howl\\'s Moving Castle'\n",
    "  '''"
   ]
  },
  {
   "cell_type": "code",
   "execution_count": 14,
   "id": "4e3eb052",
   "metadata": {},
   "outputs": [
    {
     "data": {
      "text/plain": [
       "\" Howl's Moving Castle\""
      ]
     },
     "execution_count": 14,
     "metadata": {},
     "output_type": "execute_result"
    }
   ],
   "source": [
    "\" Howl's Moving Castle\""
   ]
  },
  {
   "cell_type": "code",
   "execution_count": 15,
   "id": "1c767a4f",
   "metadata": {},
   "outputs": [
    {
     "data": {
      "text/plain": [
       "\"Howl's Moving Castle\""
      ]
     },
     "execution_count": 15,
     "metadata": {},
     "output_type": "execute_result"
    }
   ],
   "source": [
    "'Howl\\'s Moving Castle'"
   ]
  },
  {
   "cell_type": "code",
   "execution_count": null,
   "id": "06662a7f",
   "metadata": {},
   "outputs": [],
   "source": [
    "#5. How do you write a string of newlines if you don't want to use the n character?"
   ]
  },
  {
   "cell_type": "code",
   "execution_count": null,
   "id": "b9093682",
   "metadata": {},
   "outputs": [],
   "source": [
    "'''use of tripul quate '''\n"
   ]
  },
  {
   "cell_type": "code",
   "execution_count": 16,
   "id": "dd2d772f",
   "metadata": {},
   "outputs": [
    {
     "name": "stdout",
     "output_type": "stream",
     "text": [
      "it is a data \n",
      "    science course \n"
     ]
    }
   ],
   "source": [
    "a = '''it is a data \n",
    "    science course '''\n",
    "print(a)"
   ]
  },
  {
   "cell_type": "code",
   "execution_count": null,
   "id": "2aa90c74",
   "metadata": {},
   "outputs": [],
   "source": [
    "#6. What are the values of the given expressions?\n",
    "# 'Hello, world!'[1]\n",
    "# 'Hello, world!'[0:5]\n",
    "# 'Hello, world!'[:5]\n",
    "# 'Hello, world!'[3:]\n"
   ]
  },
  {
   "cell_type": "code",
   "execution_count": 5,
   "id": "02052171",
   "metadata": {},
   "outputs": [
    {
     "data": {
      "text/plain": [
       "'e'"
      ]
     },
     "execution_count": 5,
     "metadata": {},
     "output_type": "execute_result"
    }
   ],
   "source": [
    "'Hello, world!'[1]"
   ]
  },
  {
   "cell_type": "code",
   "execution_count": 6,
   "id": "ef779722",
   "metadata": {},
   "outputs": [
    {
     "data": {
      "text/plain": [
       "'Hello'"
      ]
     },
     "execution_count": 6,
     "metadata": {},
     "output_type": "execute_result"
    }
   ],
   "source": [
    "'Hello, world!'[0:5]"
   ]
  },
  {
   "cell_type": "code",
   "execution_count": 7,
   "id": "a9a466c6",
   "metadata": {},
   "outputs": [
    {
     "data": {
      "text/plain": [
       "'Hello'"
      ]
     },
     "execution_count": 7,
     "metadata": {},
     "output_type": "execute_result"
    }
   ],
   "source": [
    "'Hello, world!'[:5]"
   ]
  },
  {
   "cell_type": "code",
   "execution_count": 8,
   "id": "9c248621",
   "metadata": {},
   "outputs": [
    {
     "data": {
      "text/plain": [
       "'lo, world!'"
      ]
     },
     "execution_count": 8,
     "metadata": {},
     "output_type": "execute_result"
    }
   ],
   "source": [
    " 'Hello, world!'[3:]"
   ]
  },
  {
   "cell_type": "code",
   "execution_count": 3,
   "id": "98be96c7",
   "metadata": {},
   "outputs": [],
   "source": [
    "#7. What are the values of the following expressions?\n",
    "# 'Hello'.upper()\n",
    "# 'Hello'.upper().isupper()\n",
    "# 'Hello'.upper().lower()"
   ]
  },
  {
   "cell_type": "code",
   "execution_count": 9,
   "id": "3d2b5331",
   "metadata": {},
   "outputs": [
    {
     "data": {
      "text/plain": [
       "'HELLO'"
      ]
     },
     "execution_count": 9,
     "metadata": {},
     "output_type": "execute_result"
    }
   ],
   "source": [
    "'Hello'.upper()"
   ]
  },
  {
   "cell_type": "code",
   "execution_count": 10,
   "id": "e67a4adb",
   "metadata": {},
   "outputs": [
    {
     "data": {
      "text/plain": [
       "True"
      ]
     },
     "execution_count": 10,
     "metadata": {},
     "output_type": "execute_result"
    }
   ],
   "source": [
    "'Hello'.upper().isupper()"
   ]
  },
  {
   "cell_type": "code",
   "execution_count": 11,
   "id": "b406d478",
   "metadata": {},
   "outputs": [
    {
     "data": {
      "text/plain": [
       "'hello'"
      ]
     },
     "execution_count": 11,
     "metadata": {},
     "output_type": "execute_result"
    }
   ],
   "source": [
    "'Hello'.upper().lower()"
   ]
  },
  {
   "cell_type": "code",
   "execution_count": null,
   "id": "137956d3",
   "metadata": {},
   "outputs": [],
   "source": [
    "#8. What are the values of the following expressions?\n",
    "# 'Remember, remember, the fifth of July.'.split()\n",
    "# '-'.join('There can only one.'.split())"
   ]
  },
  {
   "cell_type": "code",
   "execution_count": 12,
   "id": "b2cbd32d",
   "metadata": {},
   "outputs": [
    {
     "data": {
      "text/plain": [
       "['Remember,', 'remember,', 'the', 'fifth', 'of', 'July.']"
      ]
     },
     "execution_count": 12,
     "metadata": {},
     "output_type": "execute_result"
    }
   ],
   "source": [
    "'Remember, remember, the fifth of July.'.split()"
   ]
  },
  {
   "cell_type": "code",
   "execution_count": 13,
   "id": "9e0a1d0a",
   "metadata": {},
   "outputs": [
    {
     "data": {
      "text/plain": [
       "'There-can-only-one.'"
      ]
     },
     "execution_count": 13,
     "metadata": {},
     "output_type": "execute_result"
    }
   ],
   "source": [
    "'-'.join('There can only one.'.split())"
   ]
  },
  {
   "cell_type": "code",
   "execution_count": null,
   "id": "2007c278",
   "metadata": {},
   "outputs": [],
   "source": [
    "#9. What are the methods for right-justifying, left-justifying, and centering a string?"
   ]
  },
  {
   "cell_type": "code",
   "execution_count": null,
   "id": "eb8566ed",
   "metadata": {},
   "outputs": [],
   "source": [
    "'''\n",
    "    right-justifying   =   rjust(), \n",
    "    left-justifying    =   ljust(),\n",
    "    centering          =   center()\n",
    "    \n",
    "     '''"
   ]
  },
  {
   "cell_type": "code",
   "execution_count": null,
   "id": "31b8fd34",
   "metadata": {},
   "outputs": [],
   "source": [
    "#10. What is the best way to remove whitespace characters from the start or end?"
   ]
  },
  {
   "cell_type": "code",
   "execution_count": null,
   "id": "cdc9e56d",
   "metadata": {},
   "outputs": [],
   "source": [
    "'''\n",
    "lstrip() and rstrip() \n",
    "'''"
   ]
  }
 ],
 "metadata": {
  "kernelspec": {
   "display_name": "Python 3 (ipykernel)",
   "language": "python",
   "name": "python3"
  },
  "language_info": {
   "codemirror_mode": {
    "name": "ipython",
    "version": 3
   },
   "file_extension": ".py",
   "mimetype": "text/x-python",
   "name": "python",
   "nbconvert_exporter": "python",
   "pygments_lexer": "ipython3",
   "version": "3.9.7"
  }
 },
 "nbformat": 4,
 "nbformat_minor": 5
}
