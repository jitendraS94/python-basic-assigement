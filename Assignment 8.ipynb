{
 "cells": [
  {
   "cell_type": "code",
   "execution_count": null,
   "id": "e134436b",
   "metadata": {},
   "outputs": [],
   "source": [
    "#1. Is the Python Standard Library included with PyInputPlus?"
   ]
  },
  {
   "cell_type": "code",
   "execution_count": null,
   "id": "b61b072d",
   "metadata": {},
   "outputs": [],
   "source": [
    " No, PyInputPlus is not a part of Python Standard Library, \n",
    "it needs to be installed explicitly using the command !pip install PyInputPlus"
   ]
  },
  {
   "cell_type": "code",
   "execution_count": null,
   "id": "ca825c12",
   "metadata": {},
   "outputs": [],
   "source": [
    "#2. Why is PyInputPlus commonly imported with import pyinputplus as pypi?"
   ]
  },
  {
   "cell_type": "code",
   "execution_count": null,
   "id": "93cdfdec",
   "metadata": {},
   "outputs": [],
   "source": [
    " You can import the module with import pyinputplus as pyip so that \n",
    "    you can enter a shorter name when calling the module's functions."
   ]
  },
  {
   "cell_type": "code",
   "execution_count": null,
   "id": "825e05c6",
   "metadata": {},
   "outputs": [],
   "source": [
    "#3. How do you distinguish between inputInt() and inputFloat()?"
   ]
  },
  {
   "cell_type": "code",
   "execution_count": null,
   "id": "6842132e",
   "metadata": {},
   "outputs": [],
   "source": [
    "inputInt() =it is give a integer value .\n",
    "inputFloat() = it is give a floting value\n"
   ]
  },
  {
   "cell_type": "code",
   "execution_count": null,
   "id": "347c305c",
   "metadata": {},
   "outputs": [],
   "source": [
    "#4. Using PyInputPlus, how do you ensure that the user enters a whole number between 0 and 99?"
   ]
  },
  {
   "cell_type": "code",
   "execution_count": null,
   "id": "ed6a094c",
   "metadata": {},
   "outputs": [],
   "source": [
    "PyInputPlus module provides a function called as inputInt() which only returns only integer values.\n",
    "inorder to restrict the input between 0 and 99,\n",
    "Call pyip.inputint(min=0, max=99)."
   ]
  },
  {
   "cell_type": "code",
   "execution_count": null,
   "id": "63790d23",
   "metadata": {},
   "outputs": [],
   "source": [
    "#5. What is transferred to the keyword arguments allowRegexes and blockRegexes?"
   ]
  },
  {
   "cell_type": "code",
   "execution_count": null,
   "id": "0741b88c",
   "metadata": {},
   "outputs": [],
   "source": [
    " we can use allowRegexes and blockRegexes keyword arguments to reject or accept valid input."
   ]
  },
  {
   "cell_type": "code",
   "execution_count": null,
   "id": "3b237e88",
   "metadata": {},
   "outputs": [],
   "source": [
    "#6. If a blank input is entered three times, what does inputStr(limit=3) do?"
   ]
  },
  {
   "cell_type": "code",
   "execution_count": 10,
   "id": "ef2eddff",
   "metadata": {},
   "outputs": [
    {
     "name": "stdout",
     "output_type": "stream",
     "text": [
      "jvh\n",
      "hbvhj\n",
      "vhv\n"
     ]
    },
    {
     "data": {
      "text/plain": [
       "'vhv'"
      ]
     },
     "execution_count": 10,
     "metadata": {},
     "output_type": "execute_result"
    }
   ],
   "source": [
    "input()\n",
    "input()\n",
    "input()\n",
    "#"
   ]
  },
  {
   "cell_type": "code",
   "execution_count": 4,
   "id": "57cd4470",
   "metadata": {},
   "outputs": [],
   "source": [
    "#7. If blank input is entered three times, what does inputStr(limit=3, default='hello') do?"
   ]
  },
  {
   "cell_type": "code",
   "execution_count": 11,
   "id": "cd5f78d3",
   "metadata": {},
   "outputs": [
    {
     "name": "stdout",
     "output_type": "stream",
     "text": [
      "hello\n",
      "hello\n",
      "hello\n"
     ]
    },
    {
     "data": {
      "text/plain": [
       "'hello'"
      ]
     },
     "execution_count": 11,
     "metadata": {},
     "output_type": "execute_result"
    }
   ],
   "source": [
    "input()\n",
    "input()\n",
    "input()\n",
    "#The function returns the value 'hello'."
   ]
  },
  {
   "cell_type": "code",
   "execution_count": null,
   "id": "5abdd708",
   "metadata": {},
   "outputs": [],
   "source": []
  }
 ],
 "metadata": {
  "kernelspec": {
   "display_name": "Python 3 (ipykernel)",
   "language": "python",
   "name": "python3"
  },
  "language_info": {
   "codemirror_mode": {
    "name": "ipython",
    "version": 3
   },
   "file_extension": ".py",
   "mimetype": "text/x-python",
   "name": "python",
   "nbconvert_exporter": "python",
   "pygments_lexer": "ipython3",
   "version": "3.9.7"
  }
 },
 "nbformat": 4,
 "nbformat_minor": 5
}
