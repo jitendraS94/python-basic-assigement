{
 "cells": [
  {
   "cell_type": "code",
   "execution_count": 1,
   "id": "adbae86c",
   "metadata": {},
   "outputs": [],
   "source": [
    "#1. To what does a relative path refer?"
   ]
  },
  {
   "cell_type": "markdown",
   "id": "fc929f86",
   "metadata": {},
   "source": [
    "\"\"\"pwd presenr working directory represent the relative path refer.\"\"\""
   ]
  },
  {
   "cell_type": "code",
   "execution_count": null,
   "id": "11c4a13e",
   "metadata": {},
   "outputs": [],
   "source": [
    "#2. What does an absolute path start with your operating system?"
   ]
  },
  {
   "cell_type": "markdown",
   "id": "cc07d76e",
   "metadata": {},
   "source": [
    "\"\"\"absolute path start with in operating system is c:\"\"\""
   ]
  },
  {
   "cell_type": "code",
   "execution_count": null,
   "id": "6ed5cffd",
   "metadata": {},
   "outputs": [],
   "source": [
    "#3. What do the functions os.getcwd() and os.chdir() do?"
   ]
  },
  {
   "cell_type": "code",
   "execution_count": null,
   "id": "7deb3c5c",
   "metadata": {},
   "outputs": [],
   "source": [
    "os.getcwd()"
   ]
  },
  {
   "cell_type": "code",
   "execution_count": null,
   "id": "792da895",
   "metadata": {},
   "outputs": [],
   "source": [
    "getcwd() = method tells us the location of current working directory (CWD). \n",
    "os.shdir = change the current working directory to specified path"
   ]
  },
  {
   "cell_type": "code",
   "execution_count": null,
   "id": "59b60826",
   "metadata": {},
   "outputs": [],
   "source": [
    "#4. What are the . and .. folders?"
   ]
  },
  {
   "cell_type": "code",
   "execution_count": null,
   "id": "458fc95a",
   "metadata": {},
   "outputs": [],
   "source": [
    ". = represent the current direcory\n",
    ".. = represent the current direcory path"
   ]
  },
  {
   "cell_type": "code",
   "execution_count": 2,
   "id": "b5673aa2",
   "metadata": {},
   "outputs": [],
   "source": [
    "#5. In C:\\bacon\\eggs\\spam.txt, which part is the dir name, and which part is the base name?"
   ]
  },
  {
   "cell_type": "code",
   "execution_count": 3,
   "id": "a32bdf7d",
   "metadata": {},
   "outputs": [
    {
     "data": {
      "text/plain": [
       "'C:\\x08acon\\\\eggs\\\\spam.txt'"
      ]
     },
     "execution_count": 3,
     "metadata": {},
     "output_type": "execute_result"
    }
   ],
   "source": [
    "\"\"\"C:\\bacon\\eggs\\spam.txt\"\"\""
   ]
  },
  {
   "cell_type": "markdown",
   "id": "f87fc310",
   "metadata": {},
   "source": [
    "\"\"\"\n",
    "dir name = spam.txt\n",
    "base name = 'C:\\x08acon\\\\eggs\n",
    "\n",
    "\"\"\"\n"
   ]
  },
  {
   "cell_type": "code",
   "execution_count": null,
   "id": "bf73365b",
   "metadata": {},
   "outputs": [],
   "source": [
    "#6. What are the three “mode” arguments that can be passed to the open() function?"
   ]
  },
  {
   "cell_type": "markdown",
   "id": "4b5856c0",
   "metadata": {},
   "source": [
    "\"\"\"\n",
    "r  =  read funtion\n",
    "w  =  write funtion\n",
    "r+ =  read write funtion\n",
    "\n",
    "\"\"\""
   ]
  },
  {
   "cell_type": "code",
   "execution_count": null,
   "id": "0d764ddf",
   "metadata": {},
   "outputs": [],
   "source": [
    "#7. What happens if an existing file is opened in write mode?"
   ]
  },
  {
   "cell_type": "markdown",
   "id": "bd57b921",
   "metadata": {},
   "source": [
    "\"\"\"\n",
    "Using this mode will overwrite any existing content in a file. If the given file does not exist, a new one will be created.\n",
    "\"\"\""
   ]
  },
  {
   "cell_type": "code",
   "execution_count": null,
   "id": "34885fc3",
   "metadata": {},
   "outputs": [],
   "source": [
    "#8. How do you tell the difference between read() and readlines()?"
   ]
  },
  {
   "cell_type": "markdown",
   "id": "d404ae5a",
   "metadata": {},
   "source": [
    "\"\"\"\n",
    "The read() method returns the file’s entire contents as a single string value. \n",
    "The readlines() method returns a list of strings, where each string is a line from the file’s contents.\n",
    "\"\"\"\n",
    "\n"
   ]
  },
  {
   "cell_type": "code",
   "execution_count": 4,
   "id": "ef9c41c0",
   "metadata": {},
   "outputs": [],
   "source": [
    "#9. What data structure does a shelf value resemble?"
   ]
  },
  {
   "cell_type": "markdown",
   "id": "497fad7c",
   "metadata": {},
   "source": [
    "\"\"\"\n",
    "A shelf value resembles a dictionary value; it has keys and values, along with keys() and values() methods\n",
    "that work similarly to the dictionary methods of the same names.\n",
    "\"\"\""
   ]
  }
 ],
 "metadata": {
  "kernelspec": {
   "display_name": "Python 3 (ipykernel)",
   "language": "python",
   "name": "python3"
  },
  "language_info": {
   "codemirror_mode": {
    "name": "ipython",
    "version": 3
   },
   "file_extension": ".py",
   "mimetype": "text/x-python",
   "name": "python",
   "nbconvert_exporter": "python",
   "pygments_lexer": "ipython3",
   "version": "3.9.7"
  }
 },
 "nbformat": 4,
 "nbformat_minor": 5
}
